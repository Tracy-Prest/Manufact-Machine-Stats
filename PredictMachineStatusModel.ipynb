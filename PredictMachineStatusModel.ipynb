{
  "nbformat": 4,
  "nbformat_minor": 0,
  "metadata": {
    "colab": {
      "provenance": []
    },
    "kernelspec": {
      "name": "python3",
      "display_name": "Python 3"
    },
    "language_info": {
      "name": "python"
    }
  },
  "cells": [
    {
      "cell_type": "code",
      "execution_count": 49,
      "metadata": {
        "id": "iIPsEeuOZLIL"
      },
      "outputs": [],
      "source": [
        "import pandas as pd\n",
        "import seaborn as sns\n",
        "\n",
        "import matplotlib.pyplot as plt\n",
        "\n",
        "%matplotlib inline\n",
        "import numpy as np"
      ]
    },
    {
      "cell_type": "code",
      "source": [
        "manufacturing_process_df = pd.read_csv('dataset.csv')\n",
        "manufacturing_process_df.info()"
      ],
      "metadata": {
        "colab": {
          "base_uri": "https://localhost:8080/"
        },
        "id": "8OgRVb_wr8zt",
        "outputId": "a4c9700a-c037-4816-98f4-3a92b21f9cec"
      },
      "execution_count": 50,
      "outputs": [
        {
          "output_type": "stream",
          "name": "stdout",
          "text": [
            "<class 'pandas.core.frame.DataFrame'>\n",
            "RangeIndex: 1000 entries, 0 to 999\n",
            "Data columns (total 6 columns):\n",
            " #   Column         Non-Null Count  Dtype  \n",
            "---  ------         --------------  -----  \n",
            " 0   ID             1000 non-null   int64  \n",
            " 1   Timestamp      1000 non-null   object \n",
            " 2   SensorReading  1000 non-null   float64\n",
            " 3   MachineStatus  1000 non-null   object \n",
            " 4   QualityCheck   1000 non-null   bool   \n",
            " 5   ProductCount   1000 non-null   int64  \n",
            "dtypes: bool(1), float64(1), int64(2), object(2)\n",
            "memory usage: 40.2+ KB\n"
          ]
        }
      ]
    },
    {
      "cell_type": "code",
      "source": [
        "# check for missing values\n",
        "print(manufacturing_process_df.isnull().sum())"
      ],
      "metadata": {
        "colab": {
          "base_uri": "https://localhost:8080/"
        },
        "id": "qiRHxMCmuBHW",
        "outputId": "69ee02ba-d9c3-45f4-c381-defaf9c011a7"
      },
      "execution_count": 51,
      "outputs": [
        {
          "output_type": "stream",
          "name": "stdout",
          "text": [
            "ID               0\n",
            "Timestamp        0\n",
            "SensorReading    0\n",
            "MachineStatus    0\n",
            "QualityCheck     0\n",
            "ProductCount     0\n",
            "dtype: int64\n"
          ]
        }
      ]
    },
    {
      "cell_type": "code",
      "source": [
        "# check target variable Machine Status\n",
        "print(manufacturing_process_df['MachineStatus'].value_counts())"
      ],
      "metadata": {
        "colab": {
          "base_uri": "https://localhost:8080/"
        },
        "id": "mlwDtXUEuWkO",
        "outputId": "0e1613d1-f893-440a-8bd4-0f0b647b20a9"
      },
      "execution_count": null,
      "outputs": [
        {
          "output_type": "stream",
          "name": "stdout",
          "text": [
            "MachineStatus\n",
            "Standby    345\n",
            "Off        332\n",
            "On         323\n",
            "Name: count, dtype: int64\n"
          ]
        }
      ]
    },
    {
      "cell_type": "code",
      "source": [
        "#chart fot target variable\n",
        "plt.barh(manufacturing_process_df['MachineStatus'].value_counts().index, manufacturing_process_df['MachineStatus'].value_counts().values)\n",
        "plt.xlabel('Count')\n",
        "plt.ylabel('Machine Status')\n",
        "#plt.show()\n"
      ],
      "metadata": {
        "id": "XH2CMZ4bvrCx",
        "colab": {
          "base_uri": "https://localhost:8080/",
          "height": 466
        },
        "outputId": "d8816ce1-51f6-42ed-a233-aaa1287c2346"
      },
      "execution_count": 52,
      "outputs": [
        {
          "output_type": "execute_result",
          "data": {
            "text/plain": [
              "Text(0, 0.5, 'Machine Status')"
            ]
          },
          "metadata": {},
          "execution_count": 52
        },
        {
          "output_type": "display_data",
          "data": {
            "text/plain": [
              "<Figure size 640x480 with 1 Axes>"
            ],
            "image/png": "[encoded data removed]"
          },
          "metadata": {}
        }
      ]
    },
    {
      "cell_type": "code",
      "source": [
        "# display the numerical features and see correlation between them\n",
        "numerical_features = manufacturing_process_df.select_dtypes(include = np.number)\n",
        "corr = numerical_features.corr()\n",
        "print(corr)\n",
        "\n",
        "# no linear relationship between these values"
      ],
      "metadata": {
        "colab": {
          "base_uri": "https://localhost:8080/"
        },
        "id": "Bc2EytYfbX7w",
        "outputId": "176bc83f-bfd7-42ad-f19f-2e3a05d69af2"
      },
      "execution_count": 53,
      "outputs": [
        {
          "output_type": "stream",
          "name": "stdout",
          "text": [
            "                     ID  SensorReading  ProductCount\n",
            "ID             1.000000       -0.02187      0.024319\n",
            "SensorReading -0.021870        1.00000     -0.022150\n",
            "ProductCount   0.024319       -0.02215      1.000000\n"
          ]
        }
      ]
    },
    {
      "cell_type": "code",
      "source": [
        "# plt.figure(figsize = (8, 8))\n",
        "# sns.heatmap(corr, annot = True)\n",
        "# plt.show()\n"
      ],
      "metadata": {
        "id": "M-HdvvkKCiQ3"
      },
      "execution_count": 54,
      "outputs": []
    },
    {
      "cell_type": "code",
      "source": [
        "# drop columns we won't use\n",
        "# manufacturing_process_df_copy = manufacturing_process_df.drop(['ID'], axis = 1)\n",
        "#print(manufacturing_process_df.columns)\n",
        "manufacturing_process_df_copy = manufacturing_process_df.drop(['ProductCount'], axis = 1)\n",
        "print(manufacturing_process_df_copy)"
      ],
      "metadata": {
        "colab": {
          "base_uri": "https://localhost:8080/"
        },
        "id": "skNHgPdUJF0H",
        "outputId": "039c114b-bb87-4308-8e49-f73e7198d43c"
      },
      "execution_count": 55,
      "outputs": [
        {
          "output_type": "stream",
          "name": "stdout",
          "text": [
            "       ID Timestamp  SensorReading MachineStatus  QualityCheck\n",
            "0       1   24:28.7      43.081004       Standby          True\n",
            "1       2   24:28.7      71.312491            On          True\n",
            "2       3   24:28.7      19.096745       Standby         False\n",
            "3       4   24:28.7      28.951475            On          True\n",
            "4       5   24:28.7      46.283914       Standby          True\n",
            "..    ...       ...            ...           ...           ...\n",
            "995   996   24:28.8      38.546762           Off         False\n",
            "996   997   24:28.8       6.231278            On         False\n",
            "997   998   24:28.8      78.568037            On         False\n",
            "998   999   24:28.8      27.776515           Off          True\n",
            "999  1000   24:28.8      11.580693       Standby          True\n",
            "\n",
            "[1000 rows x 5 columns]\n"
          ]
        }
      ]
    },
    {
      "cell_type": "code",
      "source": [
        "manufacturing_process_df_copy.info()"
      ],
      "metadata": {
        "colab": {
          "base_uri": "https://localhost:8080/"
        },
        "id": "SbHwZvmbLReP",
        "outputId": "36ef1a46-e0c9-4875-a80c-77c64170e465"
      },
      "execution_count": 56,
      "outputs": [
        {
          "output_type": "stream",
          "name": "stdout",
          "text": [
            "<class 'pandas.core.frame.DataFrame'>\n",
            "RangeIndex: 1000 entries, 0 to 999\n",
            "Data columns (total 5 columns):\n",
            " #   Column         Non-Null Count  Dtype  \n",
            "---  ------         --------------  -----  \n",
            " 0   ID             1000 non-null   int64  \n",
            " 1   Timestamp      1000 non-null   object \n",
            " 2   SensorReading  1000 non-null   float64\n",
            " 3   MachineStatus  1000 non-null   object \n",
            " 4   QualityCheck   1000 non-null   bool   \n",
            "dtypes: bool(1), float64(1), int64(1), object(2)\n",
            "memory usage: 32.4+ KB\n"
          ]
        }
      ]
    },
    {
      "cell_type": "code",
      "source": [
        "# using one hot encoding to convert categorical data to numerical\n",
        "print(pd.get_dummies(manufacturing_process_df_copy['MachineStatus']))\n",
        "print(pd.get_dummies(manufacturing_process_df_copy['Timestamp']))"
      ],
      "metadata": {
        "colab": {
          "base_uri": "https://localhost:8080/"
        },
        "id": "5U_1sF32Lxsf",
        "outputId": "19586cc8-bfd8-4e3d-eb33-06ee1a3f8c28"
      },
      "execution_count": 57,
      "outputs": [
        {
          "output_type": "stream",
          "name": "stdout",
          "text": [
            "       Off     On  Standby\n",
            "0    False  False     True\n",
            "1    False   True    False\n",
            "2    False  False     True\n",
            "3    False   True    False\n",
            "4    False  False     True\n",
            "..     ...    ...      ...\n",
            "995   True  False    False\n",
            "996  False   True    False\n",
            "997  False   True    False\n",
            "998   True  False    False\n",
            "999  False  False     True\n",
            "\n",
            "[1000 rows x 3 columns]\n",
            "     24:28.7  24:28.8\n",
            "0       True    False\n",
            "1       True    False\n",
            "2       True    False\n",
            "3       True    False\n",
            "4       True    False\n",
            "..       ...      ...\n",
            "995    False     True\n",
            "996    False     True\n",
            "997    False     True\n",
            "998    False     True\n",
            "999    False     True\n",
            "\n",
            "[1000 rows x 2 columns]\n"
          ]
        }
      ]
    },
    {
      "cell_type": "code",
      "source": [
        "# print new encoded data frame\n",
        "manufacturing_process_df_copy_encoded = pd.get_dummies(data = manufacturing_process_df_copy, columns =['Timestamp'])\n",
        "manufacturing_process_df_copy_encoded.tail()"
      ],
      "metadata": {
        "colab": {
          "base_uri": "https://localhost:8080/",
          "height": 206
        },
        "id": "BXwFmbsWOb0v",
        "outputId": "aedd4efc-5566-4723-828d-e91cc99475c3"
      },
      "execution_count": 58,
      "outputs": [
        {
          "output_type": "execute_result",
          "data": {
            "text/plain": [
              "       ID  SensorReading MachineStatus  QualityCheck  Timestamp_24:28.7  \\\n",
              "995   996      38.546762           Off         False              False   \n",
              "996   997       6.231278            On         False              False   \n",
              "997   998      78.568037            On         False              False   \n",
              "998   999      27.776515           Off          True              False   \n",
              "999  1000      11.580693       Standby          True              False   \n",
              "\n",
              "     Timestamp_24:28.8  \n",
              "995               True  \n",
              "996               True  \n",
              "997               True  \n",
              "998               True  \n",
              "999               True  "
            ],
            "text/html": [
              "\n",
              "  <div id=\"df-65b5153d-087d-4c80-a30f-5abb49d59cfc\" class=\"colab-df-container\">\n",
              "    <div>\n",
              "<style scoped>\n",
              "    .dataframe tbody tr th:only-of-type {\n",
              "        vertical-align: middle;\n",
              "    }\n",
              "\n",
              "    .dataframe tbody tr th {\n",
              "        vertical-align: top;\n",
              "    }\n",
              "\n",
              "    .dataframe thead th {\n",
              "        text-align: right;\n",
              "    }\n",
              "</style>\n",
              "<table border=\"1\" class=\"dataframe\">\n",
              "  <thead>\n",
              "    <tr style=\"text-align: right;\">\n",
              "      <th></th>\n",
              "      <th>ID</th>\n",
              "      <th>SensorReading</th>\n",
              "      <th>MachineStatus</th>\n",
              "      <th>QualityCheck</th>\n",
              "      <th>Timestamp_24:28.7</th>\n",
              "      <th>Timestamp_24:28.8</th>\n",
              "    </tr>\n",
              "  </thead>\n",
              "  <tbody>\n",
              "    <tr>\n",
              "      <th>995</th>\n",
              "      <td>996</td>\n",
              "      <td>38.546762</td>\n",
              "      <td>Off</td>\n",
              "      <td>False</td>\n",
              "      <td>False</td>\n",
              "      <td>True</td>\n",
              "    </tr>\n",
              "    <tr>\n",
              "      <th>996</th>\n",
              "      <td>997</td>\n",
              "      <td>6.231278</td>\n",
              "      <td>On</td>\n",
              "      <td>False</td>\n",
              "      <td>False</td>\n",
              "      <td>True</td>\n",
              "    </tr>\n",
              "    <tr>\n",
              "      <th>997</th>\n",
              "      <td>998</td>\n",
              "      <td>78.568037</td>\n",
              "      <td>On</td>\n",
              "      <td>False</td>\n",
              "      <td>False</td>\n",
              "      <td>True</td>\n",
              "    </tr>\n",
              "    <tr>\n",
              "      <th>998</th>\n",
              "      <td>999</td>\n",
              "      <td>27.776515</td>\n",
              "      <td>Off</td>\n",
              "      <td>True</td>\n",
              "      <td>False</td>\n",
              "      <td>True</td>\n",
              "    </tr>\n",
              "    <tr>\n",
              "      <th>999</th>\n",
              "      <td>1000</td>\n",
              "      <td>11.580693</td>\n",
              "      <td>Standby</td>\n",
              "      <td>True</td>\n",
              "      <td>False</td>\n",
              "      <td>True</td>\n",
              "    </tr>\n",
              "  </tbody>\n",
              "</table>\n",
              "</div>\n",
              "    <div class=\"colab-df-buttons\">\n",
              "\n",
              "  <div class=\"colab-df-container\">\n",
              "    <button class=\"colab-df-convert\" onclick=\"convertToInteractive('df-65b5153d-087d-4c80-a30f-5abb49d59cfc')\"\n",
              "            title=\"Convert this dataframe to an interactive table.\"\n",
              "            style=\"display:none;\">\n",
              "\n",
              "  <svg xmlns=\"http://www.w3.org/2000/svg\" height=\"24px\" viewBox=\"0 -960 960 960\">\n",
              "    <path d=\"M120-120v-720h720v720H120Zm60-500h600v-160H180v160Zm220 220h160v-160H400v160Zm0 220h160v-160H400v160ZM180-400h160v-160H180v160Zm440 0h160v-160H620v160ZM180-180h160v-160H180v160Zm440 0h160v-160H620v160Z\"/>\n",
              "  </svg>\n",
              "    </button>\n",
              "\n",
              "  <style>\n",
              "    .colab-df-container {\n",
              "      display:flex;\n",
              "      gap: 12px;\n",
              "    }\n",
              "\n",
              "    .colab-df-convert {\n",
              "      background-color: #E8F0FE;\n",
              "      border: none;\n",
              "      border-radius: 50%;\n",
              "      cursor: pointer;\n",
              "      display: none;\n",
              "      fill: #1967D2;\n",
              "      height: 32px;\n",
              "      padding: 0 0 0 0;\n",
              "      width: 32px;\n",
              "    }\n",
              "\n",
              "    .colab-df-convert:hover {\n",
              "      background-color: #E2EBFA;\n",
              "      box-shadow: 0px 1px 2px rgba(60, 64, 67, 0.3), 0px 1px 3px 1px rgba(60, 64, 67, 0.15);\n",
              "      fill: #174EA6;\n",
              "    }\n",
              "\n",
              "    .colab-df-buttons div {\n",
              "      margin-bottom: 4px;\n",
              "    }\n",
              "\n",
              "    [theme=dark] .colab-df-convert {\n",
              "      background-color: #3B4455;\n",
              "      fill: #D2E3FC;\n",
              "    }\n",
              "\n",
              "    [theme=dark] .colab-df-convert:hover {\n",
              "      background-color: #434B5C;\n",
              "      box-shadow: 0px 1px 3px 1px rgba(0, 0, 0, 0.15);\n",
              "      filter: drop-shadow(0px 1px 2px rgba(0, 0, 0, 0.3));\n",
              "      fill: #FFFFFF;\n",
              "    }\n",
              "  </style>\n",
              "\n",
              "    <script>\n",
              "      const buttonEl =\n",
              "        document.querySelector('#df-65b5153d-087d-4c80-a30f-5abb49d59cfc button.colab-df-convert');\n",
              "      buttonEl.style.display =\n",
              "        google.colab.kernel.accessAllowed ? 'block' : 'none';\n",
              "\n",
              "      async function convertToInteractive(key) {\n",
              "        const element = document.querySelector('#df-65b5153d-087d-4c80-a30f-5abb49d59cfc');\n",
              "        const dataTable =\n",
              "          await google.colab.kernel.invokeFunction('convertToInteractive',\n",
              "                                                    [key], {});\n",
              "        if (!dataTable) return;\n",
              "\n",
              "        const docLinkHtml = 'Like what you see? Visit the ' +\n",
              "          '<a target=\"_blank\" href=https://colab.research.google.com/notebooks/data_table.ipynb>data table notebook</a>'\n",
              "          + ' to learn more about interactive tables.';\n",
              "        element.innerHTML = '';\n",
              "        dataTable['output_type'] = 'display_data';\n",
              "        await google.colab.output.renderOutput(dataTable, element);\n",
              "        const docLink = document.createElement('div');\n",
              "        docLink.innerHTML = docLinkHtml;\n",
              "        element.appendChild(docLink);\n",
              "      }\n",
              "    </script>\n",
              "  </div>\n",
              "\n",
              "\n",
              "<div id=\"df-06e9796d-09cc-4bf1-baad-4f1cc365bd1a\">\n",
              "  <button class=\"colab-df-quickchart\" onclick=\"quickchart('df-06e9796d-09cc-4bf1-baad-4f1cc365bd1a')\"\n",
              "            title=\"Suggest charts\"\n",
              "            style=\"display:none;\">\n",
              "\n",
              "<svg xmlns=\"http://www.w3.org/2000/svg\" height=\"24px\"viewBox=\"0 0 24 24\"\n",
              "     width=\"24px\">\n",
              "    <g>\n",
              "        <path d=\"M19 3H5c-1.1 0-2 .9-2 2v14c0 1.1.9 2 2 2h14c1.1 0 2-.9 2-2V5c0-1.1-.9-2-2-2zM9 17H7v-7h2v7zm4 0h-2V7h2v10zm4 0h-2v-4h2v4z\"/>\n",
              "    </g>\n",
              "</svg>\n",
              "  </button>\n",
              "\n",
              "<style>\n",
              "  .colab-df-quickchart {\n",
              "      --bg-color: #E8F0FE;\n",
              "      --fill-color: #1967D2;\n",
              "      --hover-bg-color: #E2EBFA;\n",
              "      --hover-fill-color: #174EA6;\n",
              "      --disabled-fill-color: #AAA;\n",
              "      --disabled-bg-color: #DDD;\n",
              "  }\n",
              "\n",
              "  [theme=dark] .colab-df-quickchart {\n",
              "      --bg-color: #3B4455;\n",
              "      --fill-color: #D2E3FC;\n",
              "      --hover-bg-color: #434B5C;\n",
              "      --hover-fill-color: #FFFFFF;\n",
              "      --disabled-bg-color: #3B4455;\n",
              "      --disabled-fill-color: #666;\n",
              "  }\n",
              "\n",
              "  .colab-df-quickchart {\n",
              "    background-color: var(--bg-color);\n",
              "    border: none;\n",
              "    border-radius: 50%;\n",
              "    cursor: pointer;\n",
              "    display: none;\n",
              "    fill: var(--fill-color);\n",
              "    height: 32px;\n",
              "    padding: 0;\n",
              "    width: 32px;\n",
              "  }\n",
              "\n",
              "  .colab-df-quickchart:hover {\n",
              "    background-color: var(--hover-bg-color);\n",
              "    box-shadow: 0 1px 2px rgba(60, 64, 67, 0.3), 0 1px 3px 1px rgba(60, 64, 67, 0.15);\n",
              "    fill: var(--button-hover-fill-color);\n",
              "  }\n",
              "\n",
              "  .colab-df-quickchart-complete:disabled,\n",
              "  .colab-df-quickchart-complete:disabled:hover {\n",
              "    background-color: var(--disabled-bg-color);\n",
              "    fill: var(--disabled-fill-color);\n",
              "    box-shadow: none;\n",
              "  }\n",
              "\n",
              "  .colab-df-spinner {\n",
              "    border: 2px solid var(--fill-color);\n",
              "    border-color: transparent;\n",
              "    border-bottom-color: var(--fill-color);\n",
              "    animation:\n",
              "      spin 1s steps(1) infinite;\n",
              "  }\n",
              "\n",
              "  @keyframes spin {\n",
              "    0% {\n",
              "      border-color: transparent;\n",
              "      border-bottom-color: var(--fill-color);\n",
              "      border-left-color: var(--fill-color);\n",
              "    }\n",
              "    20% {\n",
              "      border-color: transparent;\n",
              "      border-left-color: var(--fill-color);\n",
              "      border-top-color: var(--fill-color);\n",
              "    }\n",
              "    30% {\n",
              "      border-color: transparent;\n",
              "      border-left-color: var(--fill-color);\n",
              "      border-top-color: var(--fill-color);\n",
              "      border-right-color: var(--fill-color);\n",
              "    }\n",
              "    40% {\n",
              "      border-color: transparent;\n",
              "      border-right-color: var(--fill-color);\n",
              "      border-top-color: var(--fill-color);\n",
              "    }\n",
              "    60% {\n",
              "      border-color: transparent;\n",
              "      border-right-color: var(--fill-color);\n",
              "    }\n",
              "    80% {\n",
              "      border-color: transparent;\n",
              "      border-right-color: var(--fill-color);\n",
              "      border-bottom-color: var(--fill-color);\n",
              "    }\n",
              "    90% {\n",
              "      border-color: transparent;\n",
              "      border-bottom-color: var(--fill-color);\n",
              "    }\n",
              "  }\n",
              "</style>\n",
              "\n",
              "  <script>\n",
              "    async function quickchart(key) {\n",
              "      const quickchartButtonEl =\n",
              "        document.querySelector('#' + key + ' button');\n",
              "      quickchartButtonEl.disabled = true;  // To prevent multiple clicks.\n",
              "      quickchartButtonEl.classList.add('colab-df-spinner');\n",
              "      try {\n",
              "        const charts = await google.colab.kernel.invokeFunction(\n",
              "            'suggestCharts', [key], {});\n",
              "      } catch (error) {\n",
              "        console.error('Error during call to suggestCharts:', error);\n",
              "      }\n",
              "      quickchartButtonEl.classList.remove('colab-df-spinner');\n",
              "      quickchartButtonEl.classList.add('colab-df-quickchart-complete');\n",
              "    }\n",
              "    (() => {\n",
              "      let quickchartButtonEl =\n",
              "        document.querySelector('#df-06e9796d-09cc-4bf1-baad-4f1cc365bd1a button');\n",
              "      quickchartButtonEl.style.display =\n",
              "        google.colab.kernel.accessAllowed ? 'block' : 'none';\n",
              "    })();\n",
              "  </script>\n",
              "</div>\n",
              "\n",
              "    </div>\n",
              "  </div>\n"
            ],
            "application/vnd.google.colaboratory.intrinsic+json": {
              "type": "dataframe",
              "summary": "{\n  \"name\": \"manufacturing_process_df_copy_encoded\",\n  \"rows\": 5,\n  \"fields\": [\n    {\n      \"column\": \"ID\",\n      \"properties\": {\n        \"dtype\": \"number\",\n        \"std\": 1,\n        \"min\": 996,\n        \"max\": 1000,\n        \"num_unique_values\": 5,\n        \"samples\": [\n          997,\n          1000,\n          998\n        ],\n        \"semantic_type\": \"\",\n        \"description\": \"\"\n      }\n    },\n    {\n      \"column\": \"SensorReading\",\n      \"properties\": {\n        \"dtype\": \"number\",\n        \"std\": 28.76105709685798,\n        \"min\": 6.231277597,\n        \"max\": 78.56803733,\n        \"num_unique_values\": 5,\n        \"samples\": [\n          6.231277597,\n          11.58069304,\n          78.56803733\n        ],\n        \"semantic_type\": \"\",\n        \"description\": \"\"\n      }\n    },\n    {\n      \"column\": \"MachineStatus\",\n      \"properties\": {\n        \"dtype\": \"string\",\n        \"num_unique_values\": 3,\n        \"samples\": [\n          \"Off\",\n          \"On\",\n          \"Standby\"\n        ],\n        \"semantic_type\": \"\",\n        \"description\": \"\"\n      }\n    },\n    {\n      \"column\": \"QualityCheck\",\n      \"properties\": {\n        \"dtype\": \"boolean\",\n        \"num_unique_values\": 2,\n        \"samples\": [\n          true,\n          false\n        ],\n        \"semantic_type\": \"\",\n        \"description\": \"\"\n      }\n    },\n    {\n      \"column\": \"Timestamp_24:28.7\",\n      \"properties\": {\n        \"dtype\": \"boolean\",\n        \"num_unique_values\": 1,\n        \"samples\": [\n          false\n        ],\n        \"semantic_type\": \"\",\n        \"description\": \"\"\n      }\n    },\n    {\n      \"column\": \"Timestamp_24:28.8\",\n      \"properties\": {\n        \"dtype\": \"boolean\",\n        \"num_unique_values\": 1,\n        \"samples\": [\n          true\n        ],\n        \"semantic_type\": \"\",\n        \"description\": \"\"\n      }\n    }\n  ]\n}"
            }
          },
          "metadata": {},
          "execution_count": 58
        }
      ]
    },
    {
      "cell_type": "code",
      "source": [
        "from sklearn.preprocessing import StandardScaler\n",
        "scaler = StandardScaler()\n",
        "scaled_features = scaler.fit_transform(manufacturing_process_df_copy_encoded[['SensorReading', 'MachineStatus'] + [col for col in manufacturing_process_df_copy_encoded.columns if 'Timestamp' in col]])\n",
        "print(scaled_features)"
      ],
      "metadata": {
        "id": "2ppkB9fsw9_q",
        "colab": {
          "base_uri": "https://localhost:8080/"
        },
        "outputId": "df341871-65d7-44da-b8f1-141d4d5f4ea0"
      },
      "execution_count": 62,
      "outputs": [
        {
          "output_type": "stream",
          "name": "stdout",
          "text": [
            "[[-0.28993163  1.19971208  0.62515645 -0.62515645]\n",
            " [ 0.68170534 -0.01580168  0.62515645 -0.62515645]\n",
            " [-1.1153927   1.19971208  0.62515645 -0.62515645]\n",
            " ...\n",
            " [ 0.9314179  -0.01580168 -1.59959959  1.59959959]\n",
            " [-0.81666291 -1.23131544 -1.59959959  1.59959959]\n",
            " [-1.37407102  1.19971208 -1.59959959  1.59959959]]\n"
          ]
        }
      ]
    },
    {
      "cell_type": "code",
      "source": [
        "from sklearn.model_selection import train_test_split\n",
        "\n",
        "machine_status_mapping = {'On': 1, 'Off': 0, 'Standby': 2}\n",
        "manufacturing_process_df_copy_encoded['MachineStatus'] = (manufacturing_process_df_copy['MachineStatus'].map(machine_status_mapping))\n",
        "print(manufacturing_process_df_copy_encoded.columns)\n",
        "\n",
        "\n",
        "X = manufacturing_process_df_copy_encoded.drop(['MachineStatus'], axis = 1)\n",
        "y = manufacturing_process_df_copy_encoded['MachineStatus']\n",
        "print(X)\n",
        "print(y)\n",
        "\n",
        "X_train, X_valid, y_train, y_valid = train_test_split(X, y, test_size = 0.2, random_state = 42)\n",
        "\n",
        "# #view data split\n",
        "print(X_train.shape)\n",
        "print(X_valid.shape)\n",
        "print(y_train.shape)\n",
        "print(y_valid.shape)\n",
        "\n",
        "# print(y_train.unique)\n",
        "\n"
      ],
      "metadata": {
        "colab": {
          "base_uri": "https://localhost:8080/"
        },
        "id": "zdb6hQBwQ97f",
        "outputId": "d24c2840-769f-48b8-8350-fe95b48a47df"
      },
      "execution_count": 63,
      "outputs": [
        {
          "output_type": "stream",
          "name": "stdout",
          "text": [
            "Index(['ID', 'SensorReading', 'MachineStatus', 'QualityCheck',\n",
            "       'Timestamp_24:28.7', 'Timestamp_24:28.8'],\n",
            "      dtype='object')\n",
            "       ID  SensorReading  QualityCheck  Timestamp_24:28.7  Timestamp_24:28.8\n",
            "0       1      43.081004          True               True              False\n",
            "1       2      71.312491          True               True              False\n",
            "2       3      19.096745         False               True              False\n",
            "3       4      28.951475          True               True              False\n",
            "4       5      46.283914          True               True              False\n",
            "..    ...            ...           ...                ...                ...\n",
            "995   996      38.546762         False              False               True\n",
            "996   997       6.231278         False              False               True\n",
            "997   998      78.568037         False              False               True\n",
            "998   999      27.776515          True              False               True\n",
            "999  1000      11.580693          True              False               True\n",
            "\n",
            "[1000 rows x 5 columns]\n",
            "0      2\n",
            "1      1\n",
            "2      2\n",
            "3      1\n",
            "4      2\n",
            "      ..\n",
            "995    0\n",
            "996    1\n",
            "997    1\n",
            "998    0\n",
            "999    2\n",
            "Name: MachineStatus, Length: 1000, dtype: int64\n",
            "(800, 5)\n",
            "(200, 5)\n",
            "(800,)\n",
            "(200,)\n"
          ]
        }
      ]
    },
    {
      "cell_type": "code",
      "source": [
        "# a model to classify machine status\n",
        "from sklearn.linear_model import LogisticRegression\n",
        "\n",
        "logistic_model = LogisticRegression(multi_class= 'multinomial', solver = 'lbfgs', max_iter=1000)\n",
        "\n",
        "#Train\n",
        "logistic_model.fit(X_train, y_train)\n",
        "\n",
        "\n",
        "#Predict\n",
        "y_predict_valid = logistic_model.predict(X_valid)\n",
        "\n",
        "# Determines the accuracy of model to see its performance\n",
        "from sklearn.metrics import accuracy_score, classification_report\n",
        "\n",
        "print(f\"Accuracy Score: {accuracy_score(y_valid, y_predict_valid)}\")\n",
        "print(classification_report(y_valid, y_predict_valid))"
      ],
      "metadata": {
        "id": "saG9a5NcX1CQ",
        "colab": {
          "base_uri": "https://localhost:8080/"
        },
        "outputId": "aa7b907e-7db2-4b31-b509-2ddf88c53da4"
      },
      "execution_count": 64,
      "outputs": [
        {
          "output_type": "stream",
          "name": "stdout",
          "text": [
            "Accuracy Score: 0.35\n",
            "              precision    recall  f1-score   support\n",
            "\n",
            "           0       0.33      0.28      0.30        68\n",
            "           1       0.31      0.25      0.28        60\n",
            "           2       0.39      0.50      0.44        72\n",
            "\n",
            "    accuracy                           0.35       200\n",
            "   macro avg       0.34      0.34      0.34       200\n",
            "weighted avg       0.34      0.35      0.34       200\n",
            "\n"
          ]
        },
        {
          "output_type": "stream",
          "name": "stderr",
          "text": [
            "/usr/local/lib/python3.11/dist-packages/sklearn/linear_model/_logistic.py:1247: FutureWarning: 'multi_class' was deprecated in version 1.5 and will be removed in 1.7. From then on, it will always use 'multinomial'. Leave it to its default value to avoid this warning.\n",
            "  warnings.warn(\n"
          ]
        }
      ]
    },
    {
      "cell_type": "markdown",
      "source": [
        "The closer the value is to 1, the more confident the data is for a Logistic Regression Algorithm. The accuracy is low showing the model's poor job at predicton. Feature engineering and cros validation can be used to improve the model's performance."
      ],
      "metadata": {
        "id": "I5om1uNCDKZI"
      }
    },
    {
      "cell_type": "code",
      "source": [
        "#Using Random Forest modeling\n",
        "from sklearn.ensemble import RandomForestClassifier\n",
        "\n",
        "rf_model = RandomForestClassifier()\n",
        "rf_model.fit(X_train, y_train)\n",
        "\n",
        "y_predict = rf_model.predict(X_valid)\n",
        "\n",
        "from sklearn.metrics import accuracy_score, classification_report\n",
        "\n",
        "print(f\"Accuracy Score: {accuracy_score(y_valid, y_predict)}\")\n",
        "print(classification_report(y_valid, y_predict))"
      ],
      "metadata": {
        "id": "WYqQuUJfhyvK",
        "colab": {
          "base_uri": "https://localhost:8080/"
        },
        "outputId": "095f634f-f73c-4289-f128-085ea206053a"
      },
      "execution_count": 65,
      "outputs": [
        {
          "output_type": "stream",
          "name": "stdout",
          "text": [
            "Accuracy Score: 0.395\n",
            "              precision    recall  f1-score   support\n",
            "\n",
            "           0       0.37      0.41      0.39        68\n",
            "           1       0.39      0.40      0.39        60\n",
            "           2       0.43      0.38      0.40        72\n",
            "\n",
            "    accuracy                           0.40       200\n",
            "   macro avg       0.40      0.40      0.40       200\n",
            "weighted avg       0.40      0.40      0.40       200\n",
            "\n"
          ]
        }
      ]
    },
    {
      "cell_type": "markdown",
      "source": [
        "Poor model performance"
      ],
      "metadata": {
        "id": "SM7YxXW1C1Rm"
      }
    },
    {
      "cell_type": "code",
      "source": [
        "import xgboost as xgb\n",
        "xgb_model = xgb.XGBClassifier(objective = 'multi:softmax', num_class = 3, random_state = 42) #initiate model, using softmax objective for multi class classification\n",
        "xgb_model.fit(X_train, y_train)\n",
        "\n",
        "# Predict on the validation set\n",
        "y_predict_xgb = xgb_model.predict(X_valid)\n",
        "\n",
        "# Evaluate the model\n",
        "print(f\"Accuracy Score: {accuracy_score(y_valid, y_predict_xgb)}\")\n",
        "print(classification_report(y_valid, y_predict_xgb))\n"
      ],
      "metadata": {
        "colab": {
          "base_uri": "https://localhost:8080/"
        },
        "id": "KNEPMupIC0l2",
        "outputId": "732e8857-4472-4d34-ed70-c114bf01f777"
      },
      "execution_count": 67,
      "outputs": [
        {
          "output_type": "stream",
          "name": "stdout",
          "text": [
            "Accuracy Score: 0.355\n",
            "              precision    recall  f1-score   support\n",
            "\n",
            "           0       0.36      0.41      0.38        68\n",
            "           1       0.33      0.33      0.33        60\n",
            "           2       0.37      0.32      0.34        72\n",
            "\n",
            "    accuracy                           0.35       200\n",
            "   macro avg       0.35      0.35      0.35       200\n",
            "weighted avg       0.36      0.35      0.35       200\n",
            "\n"
          ]
        }
      ]
    },
    {
      "cell_type": "markdown",
      "source": [
        "Model need more tuning for good performance"
      ],
      "metadata": {
        "id": "IRzfeTSUFSEV"
      }
    },
    {
      "cell_type": "code",
      "source": [],
      "metadata": {
        "id": "hle6lqDx-Ek_"
      },
      "execution_count": null,
      "outputs": []
    },
    {
      "cell_type": "code",
      "source": [],
      "metadata": {
        "id": "e0w-5BZibKlh"
      },
      "execution_count": null,
      "outputs": []
    }
  ]
}